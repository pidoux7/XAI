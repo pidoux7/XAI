{
 "cells": [
  {
   "cell_type": "code",
   "execution_count": 1,
   "metadata": {},
   "outputs": [],
   "source": [
    "import numpy as np\n",
    "import math as m\n",
    "import sklearn as sk\n",
    "from sklearn.datasets import make_moons\n",
    "import matplotlib.pyplot as plt\n",
    "from sklearn.model_selection import train_test_split"
   ]
  },
  {
   "cell_type": "code",
   "execution_count": 2,
   "metadata": {},
   "outputs": [],
   "source": [
    "X,y = make_moons(n_samples=2000, shuffle=True, noise =0.03)\n",
    "X_train, X_test, y_train, y_test = train_test_split(X,y,test_size=1000, train_size=1000, shuffle=True)"
   ]
  },
  {
   "cell_type": "code",
   "execution_count": 3,
   "metadata": {},
   "outputs": [
    {
     "data": {
      "image/png": "[encoded data removed]",
      "text/plain": [
       "<Figure size 432x288 with 1 Axes>"
      ]
     },
     "metadata": {},
     "output_type": "display_data"
    }
   ],
   "source": [
    "\n",
    "plt.plot(X[:, 0][y==1], X[:, 1][y==1],'bs')\n",
    "plt.plot(X[:, 0][y==0], X[:, 1][y==0], 'g^')\n",
    "\n",
    "# X contains two features, x1 and x2\n",
    "plt.xlabel(r\"$x_1$\", fontsize=20)\n",
    "plt.ylabel(r\"$x_2$\", fontsize=20)\n",
    "\n",
    "# Simplifying the plot by removing the axis scales.\n",
    "plt.xticks([])\n",
    "plt.yticks([])\n",
    "\n",
    "# Displaying the plot.\n",
    "plt.show()"
   ]
  },
  {
   "cell_type": "code",
   "execution_count": 4,
   "metadata": {},
   "outputs": [],
   "source": [
    "def accuracy(y,pred):\n",
    "    n=0\n",
    "    for i in range(len(y)):\n",
    "        if y[i]==pred[i]:\n",
    "            n+=1\n",
    "    return n/len(y)"
   ]
  },
  {
   "cell_type": "code",
   "execution_count": 5,
   "metadata": {},
   "outputs": [
    {
     "data": {
      "text/plain": [
       "0.99"
      ]
     },
     "execution_count": 5,
     "metadata": {},
     "output_type": "execute_result"
    }
   ],
   "source": [
    "# KNN \n",
    "from sklearn.neighbors import KNeighborsClassifier\n",
    "neigh = KNeighborsClassifier(n_neighbors=200)\n",
    "neigh.fit(X_train, y_train)\n",
    "pred = neigh.predict(X_test)\n",
    "accuracy(y_test,pred)\n"
   ]
  },
  {
   "cell_type": "code",
   "execution_count": 6,
   "metadata": {},
   "outputs": [
    {
     "data": {
      "text/plain": [
       "0.998"
      ]
     },
     "execution_count": 6,
     "metadata": {},
     "output_type": "execute_result"
    }
   ],
   "source": [
    "# random forest\n",
    "from sklearn.ensemble import RandomForestClassifier\n",
    "\n",
    "neigh = RandomForestClassifier(n_estimators=200)\n",
    "neigh.fit(X_train, y_train)\n",
    "X2,y2 = make_moons(n_samples=1000, shuffle=True, noise =0.03)\n",
    "pred = neigh.predict(X_test)\n",
    "accuracy(y_test,pred)"
   ]
  },
  {
   "cell_type": "code",
   "execution_count": 7,
   "metadata": {},
   "outputs": [
    {
     "data": {
      "text/plain": [
       "1.0"
      ]
     },
     "execution_count": 7,
     "metadata": {},
     "output_type": "execute_result"
    }
   ],
   "source": [
    "# SVM\n",
    "from sklearn.svm import SVC\n",
    "\n",
    "neigh = SVC()\n",
    "neigh.fit(X_train, y_train)\n",
    "pred = neigh.predict(X_test)\n",
    "accuracy(y_test,pred)"
   ]
  },
  {
   "cell_type": "markdown",
   "metadata": {},
   "source": [
    "#On utilise la fonction predict de sklearn pour prédire la classe pour toute donnée\n"
   ]
  },
  {
   "cell_type": "code",
   "execution_count": 104,
   "metadata": {},
   "outputs": [],
   "source": [
    "def SL(X,a0,a1,n): # fonctionnement mais à verifier\n",
    "    X= X.reshape(-1)\n",
    "    d = X.shape[0]\n",
    "    # distribution gaussienne centrée réduite de taille n*d\n",
    "    Z1 = np.random.normal(0,1,(n,d))\n",
    "    #normalisé par la norme de chacun des Zi\n",
    "    Z2 = Z1 / np.linalg.norm(Z1,axis=1).reshape(-1,1)\n",
    "    #uniforme sur [a0**d,a1**d]\n",
    "    u = np.random.uniform(a0**d,a1**d,(n,1))\n",
    "    u2 = u/u**d\n",
    "    #projection sur l'hyperplan et translation\n",
    "    S = X + Z2*u \n",
    "    return S\n",
    "\n",
    "# algorithme growing spheres generation à finir \n",
    "def algo_GSG(X,y,classifier,eta,n): \n",
    "\n",
    "    d = X.shape[0]\n",
    "    z = SL(X,0,eta,n)\n",
    "    prediction = classifier.predict(z)\n",
    "    while True:\n",
    "        if prediction.all() == y:\n",
    "            print(\"ok\")\n",
    "            break\n",
    "        else:\n",
    "            eta = eta/2\n",
    "            z = SL(X,0,eta,n)\n",
    "            prediction = classifier.predict(z)\n",
    "            print(prediction)\n",
    "    print(\"hi\",prediction)\n",
    "    \n",
    "    a0 = eta\n",
    "    a1 = 2*eta\n",
    "    while True:\n",
    "        if prediction.any() != y:\n",
    "            print(\"ok2\")\n",
    "            break\n",
    "        else:\n",
    "            a0 = a1\n",
    "            a1 = a1+eta\n",
    "            z = SL(X,a0,a1,n)\n",
    "            prediction = classifier.predict(z)\n",
    "            print(\"hi2\", prediction)\n",
    "    \n",
    "    y2 = np.ones((n))*y\n",
    "    enemys= np.argwhere(prediction!=y2)\n",
    "    print(enemys)\n",
    "    for i in enemys:\n",
    "        print(classifier.predict(z[i,:]))\n",
    "    enemy = m.inf\n",
    "    for i in enemys:\n",
    "        if np.linalg.norm(z[i]-X) < enemy:\n",
    "            enemy = np.linalg.norm(z[i]-X)\n",
    "            ene = z[i,:]\n",
    "            #print(ene)\n",
    "            #print(y)\n",
    "            #print(classifier.predict(z[i,:]))   \n",
    "\n",
    "\n",
    "    return ene\n",
    "\n"
   ]
  },
  {
   "cell_type": "code",
   "execution_count": 105,
   "metadata": {},
   "outputs": [
    {
     "name": "stdout",
     "output_type": "stream",
     "text": [
      "(2,)\n",
      "0\n",
      "ok\n",
      "hi [0 0 0 0 0 0 0 0 0 0]\n",
      "hi2 [1 1 0 1 1 0 0 1 0 1]\n",
      "ok2\n",
      "[[0]\n",
      " [1]\n",
      " [3]\n",
      " [4]\n",
      " [7]\n",
      " [9]]\n",
      "[1]\n",
      "[1]\n",
      "[1]\n",
      "[1]\n",
      "[1]\n",
      "[1]\n"
     ]
    },
    {
     "data": {
      "image/png": "[encoded data removed]",
      "text/plain": [
       "<Figure size 432x288 with 1 Axes>"
      ]
     },
     "metadata": {
      "needs_background": "light"
     },
     "output_type": "display_data"
    }
   ],
   "source": [
    "x0= X_test[0]\n",
    "print(x0.shape)\n",
    "f = SL(x0,2,3,1000)\n",
    "plt.plot(f[:,0],f[:,1],'bs')\n",
    "plt.plot(x0[0],x0[1],'r^')\n",
    "plt.show\n",
    "\n",
    "print(y_test[2])\n",
    "enemy =algo_GSG(X_test[3],y_test[3],neigh,0.5,10)\n"
   ]
  },
  {
   "cell_type": "code",
   "execution_count": 106,
   "metadata": {},
   "outputs": [],
   "source": [
    "def GSFS(X,y,classifier,enemy):\n",
    "    e = enemy\n",
    "    e_best=e\n",
    "    while classifier.predict(e) != y:\n",
    "        e_best = e\n",
    "        i = np.argmin(np.linalg.norm(e-X, ord=1))\n",
    "        print(\"hi\")\n",
    "        e[i]= X[i]\n",
    "    \n",
    "    return e_best"
   ]
  },
  {
   "cell_type": "code",
   "execution_count": 107,
   "metadata": {},
   "outputs": [
    {
     "name": "stdout",
     "output_type": "stream",
     "text": [
      "hi\n",
      "[[0.98440723 0.98440723]]\n"
     ]
    }
   ],
   "source": [
    "print(GSFS(X_test[3],y_test[3],neigh,enemy))"
   ]
  },
  {
   "cell_type": "code",
   "execution_count": 109,
   "metadata": {},
   "outputs": [
    {
     "name": "stdout",
     "output_type": "stream",
     "text": [
      "0\n",
      "[0]\n"
     ]
    }
   ],
   "source": [
    "print(y_test[3])\n",
    "print(neigh.predict(enemy.reshape(1,-1)))"
   ]
  },
  {
   "cell_type": "code",
   "execution_count": null,
   "metadata": {},
   "outputs": [],
   "source": []
  }
 ],
 "metadata": {
  "kernelspec": {
   "display_name": "Python 3",
   "language": "python",
   "name": "python3"
  },
  "language_info": {
   "codemirror_mode": {
    "name": "ipython",
    "version": 3
   },
   "file_extension": ".py",
   "mimetype": "text/x-python",
   "name": "python",
   "nbconvert_exporter": "python",
   "pygments_lexer": "ipython3",
   "version": "3.10.12"
  },
  "orig_nbformat": 4
 },
 "nbformat": 4,
 "nbformat_minor": 2
}
