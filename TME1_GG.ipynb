{
 "cells": [
  {
   "cell_type": "code",
   "execution_count": 3,
   "metadata": {},
   "outputs": [],
   "source": [
    "import numpy as np\n",
    "import math as m\n",
    "import sklearn as sk\n",
    "from sklearn.datasets import make_moons\n",
    "import matplotlib.pyplot as plt\n",
    "from sklearn.model_selection import train_test_split"
   ]
  },
  {
   "cell_type": "code",
   "execution_count": 4,
   "metadata": {},
   "outputs": [],
   "source": [
    "X,y = make_moons(n_samples=2000, shuffle=True, noise =0.03)\n",
    "X_train, X_test, y_train, y_test = train_test_split(X,y,test_size=1000, train_size=1000, shuffle=True)"
   ]
  },
  {
   "cell_type": "code",
   "execution_count": 5,
   "metadata": {},
   "outputs": [
    {
     "data": {
      "image/png": "[encoded data removed]",
      "text/plain": [
       "<Figure size 432x288 with 1 Axes>"
      ]
     },
     "metadata": {},
     "output_type": "display_data"
    }
   ],
   "source": [
    "\n",
    "plt.plot(X[:, 0][y==1], X[:, 1][y==1],'bs')\n",
    "plt.plot(X[:, 0][y==0], X[:, 1][y==0], 'g^')\n",
    "\n",
    "# X contains two features, x1 and x2\n",
    "plt.xlabel(r\"$x_1$\", fontsize=20)\n",
    "plt.ylabel(r\"$x_2$\", fontsize=20)\n",
    "\n",
    "# Simplifying the plot by removing the axis scales.\n",
    "plt.xticks([])\n",
    "plt.yticks([])\n",
    "\n",
    "# Displaying the plot.\n",
    "plt.show()"
   ]
  },
  {
   "cell_type": "code",
   "execution_count": 6,
   "metadata": {},
   "outputs": [],
   "source": [
    "def accuracy(y,pred):\n",
    "    n=0\n",
    "    for i in range(len(y)):\n",
    "        if y[i]==pred[i]:\n",
    "            n+=1\n",
    "    return n/len(y)"
   ]
  },
  {
   "cell_type": "code",
   "execution_count": 7,
   "metadata": {},
   "outputs": [
    {
     "data": {
      "text/plain": [
       "0.976"
      ]
     },
     "execution_count": 7,
     "metadata": {},
     "output_type": "execute_result"
    }
   ],
   "source": [
    "# KNN \n",
    "from sklearn.neighbors import KNeighborsClassifier\n",
    "neigh = KNeighborsClassifier(n_neighbors=200)\n",
    "neigh.fit(X_train, y_train)\n",
    "pred = neigh.predict(X_test)\n",
    "accuracy(y_test,pred)\n"
   ]
  },
  {
   "cell_type": "code",
   "execution_count": 8,
   "metadata": {},
   "outputs": [
    {
     "data": {
      "text/plain": [
       "0.997"
      ]
     },
     "execution_count": 8,
     "metadata": {},
     "output_type": "execute_result"
    }
   ],
   "source": [
    "# random forest\n",
    "from sklearn.ensemble import RandomForestClassifier\n",
    "\n",
    "neigh = RandomForestClassifier(n_estimators=200)\n",
    "neigh.fit(X_train, y_train)\n",
    "X2,y2 = make_moons(n_samples=1000, shuffle=True, noise =0.03)\n",
    "pred = neigh.predict(X_test)\n",
    "accuracy(y_test,pred)"
   ]
  },
  {
   "cell_type": "code",
   "execution_count": 15,
   "metadata": {},
   "outputs": [
    {
     "data": {
      "text/plain": [
       "1.0"
      ]
     },
     "execution_count": 15,
     "metadata": {},
     "output_type": "execute_result"
    }
   ],
   "source": [
    "# SVM\n",
    "from sklearn.svm import SVC\n",
    "\n",
    "neigh = SVC()\n",
    "neigh.fit(X_train, y_train)\n",
    "pred = neigh.predict(X_test)\n",
    "accuracy(y_test,pred)"
   ]
  },
  {
   "cell_type": "markdown",
   "metadata": {},
   "source": [
    "#On utilise la fonction predict de sklearn pour prédire la classe pour toute donnée\n"
   ]
  },
  {
   "cell_type": "code",
   "execution_count": 20,
   "metadata": {},
   "outputs": [
    {
     "name": "stdout",
     "output_type": "stream",
     "text": [
      "[0.60899238 0.79878865]\n"
     ]
    }
   ],
   "source": [
    "x0= X_test[0]\n",
    "print(x0)\n",
    "\n",
    "def algo_GSG(eta, n): \n",
    "    n = np.shape[0]\n",
    "    d = np.shape[1]\n",
    "    z = np.random.normal(0,1,(n,d))\n",
    "    \n",
    "    \n",
    "\n",
    "\n",
    "    pass"
   ]
  },
  {
   "cell_type": "code",
   "execution_count": 26,
   "metadata": {},
   "outputs": [
    {
     "ename": "SyntaxError",
     "evalue": "invalid syntax (859834256.py, line 6)",
     "output_type": "error",
     "traceback": [
      "\u001b[0;36m  File \u001b[0;32m\"/tmp/ipykernel_11865/859834256.py\"\u001b[0;36m, line \u001b[0;32m6\u001b[0m\n\u001b[0;31m    generer par loi gaussienne\u001b[0m\n\u001b[0m            ^\u001b[0m\n\u001b[0;31mSyntaxError\u001b[0m\u001b[0;31m:\u001b[0m invalid syntax\n"
     ]
    }
   ],
   "source": [
    "mean = np.zeros()\n",
    "cov = [[1, 0], [0, 1]]\n",
    "x = np.random.multivariate_normal(mean, cov, (3, 3))\n",
    "\n",
    "\n",
    "generer par loi gaussienne \n",
    "chaque zi \n",
    "Z1\n",
    "\n",
    "\n",
    "normaliser pour donner Z2, taille n*D\n",
    "projeter chaque zi qui doivent etre diviser par la norme de chacun des zip\n",
    "\n",
    "pour projeter on entre a0 et a1 je veux les projeter uniformement mais on peut pas ju\n",
    "generer u dans un loi uniforme entre a0 puissance d et a1 puisssance \n",
    "n ligne et n colonne \n",
    "\n",
    "ui doit etre remplacé à la par ui/ui*d \n",
    "\n",
    "vecteur rayon a n colonne\n",
    "\n",
    "puis translater par rapport à X0"
   ]
  },
  {
   "cell_type": "code",
   "execution_count": null,
   "metadata": {},
   "outputs": [],
   "source": []
  }
 ],
 "metadata": {
  "kernelspec": {
   "display_name": "Python 3",
   "language": "python",
   "name": "python3"
  },
  "language_info": {
   "codemirror_mode": {
    "name": "ipython",
    "version": 3
   },
   "file_extension": ".py",
   "mimetype": "text/x-python",
   "name": "python",
   "nbconvert_exporter": "python",
   "pygments_lexer": "ipython3",
   "version": "3.10.12"
  },
  "orig_nbformat": 4
 },
 "nbformat": 4,
 "nbformat_minor": 2
}
