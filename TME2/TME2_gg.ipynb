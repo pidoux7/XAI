{
 "cells": [
  {
   "cell_type": "markdown",
   "metadata": {},
   "source": [
    "**TME2 FAURE Guillaume et LUCAS Garance** et Mathis K"
   ]
  },
  {
   "cell_type": "code",
   "execution_count": 1,
   "metadata": {},
   "outputs": [],
   "source": [
    "#!pip install -U dice-ml\n",
    "#!pip install torch"
   ]
  },
  {
   "cell_type": "markdown",
   "metadata": {},
   "source": [
    "**Import**"
   ]
  },
  {
   "cell_type": "code",
   "execution_count": 2,
   "metadata": {},
   "outputs": [
    {
     "name": "stderr",
     "output_type": "stream",
     "text": [
      "/home/pidoux/.local/lib/python3.10/site-packages/dice_ml/utils/exception.py:12: UserWarning: UserConfigValidationException will be deprecated from dice_ml.utils. Please import UserConfigValidationException from raiutils.exceptions.\n",
      "  warnings.warn(\"UserConfigValidationException will be deprecated from dice_ml.utils. \"\n"
     ]
    }
   ],
   "source": [
    "import numpy as np\n",
    "import math as m\n",
    "import sklearn as sk\n",
    "from sklearn.datasets import make_moons\n",
    "import matplotlib.pyplot as plt\n",
    "from sklearn.model_selection import train_test_split\n",
    "import copy as cp\n",
    "from sklearn.ensemble import RandomForestClassifier\n",
    "from sklearn.neighbors import KNeighborsClassifier\n",
    "from sklearn.svm import SVC\n",
    "import dice_ml \n",
    "from dice_ml.utils import helpers\n",
    "import pandas as pd\n",
    "import torch\n",
    "import torch.nn as nn\n",
    "import torch.optim as optim\n",
    "import os\n",
    "from torch.utils.data import DataLoader\n",
    "from torchvision import datasets, transforms"
   ]
  },
  {
   "cell_type": "markdown",
   "metadata": {},
   "source": [
    "# Création dataset"
   ]
  },
  {
   "cell_type": "code",
   "execution_count": 24,
   "metadata": {},
   "outputs": [],
   "source": [
    "def creation_dataset(n_samples,shuffle, noise, proportion):\n",
    "    X, y = make_moons(n_samples=n_samples, shuffle = shuffle, noise=noise)\n",
    "    X_train, X_test, y_train, y_test = train_test_split(X, y, test_size=proportion)\n",
    "    assemblage = np.hstack((X_train, y_train.reshape(-1,1)))\n",
    "    train_pd = pd.DataFrame(assemblage, columns= [\"x0\", \"x1\",\"outcome\"])\n",
    "    test_pd = pd.DataFrame(X_test, columns= [\"x0\", \"x1\"])\n",
    "    X_train_t = torch.tensor(X_train, dtype=torch.float32)\n",
    "    y_train_t = torch.tensor(y_train, dtype=torch.float32)\n",
    "    X_test_t = torch.FloatTensor(X_test)\n",
    "    y_test_t = torch.FloatTensor(y_test)\n",
    "    return X_train, X_test, y_train, y_test, train_pd, test_pd, X_train_t, y_train_t, X_test_t, y_test_t"
   ]
  },
  {
   "cell_type": "code",
   "execution_count": 25,
   "metadata": {},
   "outputs": [],
   "source": [
    "X_train, X_test, y_train, y_test, train_pd, test_pd, X_train_t, y_train_t, X_test_t, y_test_t = creation_dataset(1000, True, 0.05,0.3)"
   ]
  },
  {
   "cell_type": "markdown",
   "metadata": {},
   "source": [
    "# Implémentation d'un Régression logistique format torch"
   ]
  },
  {
   "cell_type": "code",
   "execution_count": 5,
   "metadata": {},
   "outputs": [
    {
     "name": "stdout",
     "output_type": "stream",
     "text": [
      "Époque [100/1000], Perte: 0.3850041925907135\n",
      "Époque [200/1000], Perte: 0.33638498187065125\n",
      "Époque [300/1000], Perte: 0.3111461102962494\n",
      "Époque [400/1000], Perte: 0.2949872612953186\n",
      "Époque [500/1000], Perte: 0.2836644947528839\n",
      "Époque [600/1000], Perte: 0.27533870935440063\n",
      "Époque [700/1000], Perte: 0.2690233588218689\n",
      "Époque [800/1000], Perte: 0.264121413230896\n",
      "Époque [900/1000], Perte: 0.26024508476257324\n",
      "Époque [1000/1000], Perte: 0.25713130831718445\n"
     ]
    }
   ],
   "source": [
    "# Créer un modèle de régression logistique simple\n",
    "class LogisticRegressionModel(nn.Module):\n",
    "    def __init__(self, input_dim):\n",
    "        super(LogisticRegressionModel, self).__init__()\n",
    "        self.linear = nn.Linear(input_dim, 1)\n",
    "\n",
    "    def forward(self, x):\n",
    "        return torch.sigmoid(self.linear(x))\n",
    "\n",
    "input_dim = 2\n",
    "model = LogisticRegressionModel(input_dim)\n",
    "\n",
    "# Définir la fonction de perte et l'optimiseur\n",
    "criterion = nn.BCELoss()  # Binary Cross Entropy Loss\n",
    "optimizer = optim.SGD(model.parameters(), lr=0.1)\n",
    "\n",
    "# Entraîner le modèle\n",
    "num_epochs = 1000\n",
    "for epoch in range(num_epochs):\n",
    "    # Forward pass\n",
    "    outputs = model(X_train_t)\n",
    "    loss = criterion(outputs, y_train_t.view(-1, 1))\n",
    "\n",
    "    # Backward pass and optimization\n",
    "    optimizer.zero_grad()\n",
    "    loss.backward()\n",
    "    optimizer.step()\n",
    "\n",
    "    if (epoch + 1) % 100 == 0:\n",
    "        print(f'Époque [{epoch+1}/{num_epochs}], Perte: {loss.item()}')\n",
    "\n",
    "# Évaluer le modèle sur des données de test\n",
    "X_test_t = torch.tensor(X_test, dtype=torch.float32)\n",
    "with torch.no_grad():\n",
    "    predicted = model(X_test_t)\n",
    "    predicted_class = (predicted >= 0.5).float()"
   ]
  },
  {
   "cell_type": "markdown",
   "metadata": {},
   "source": [
    "# fonction pour faciliter l'usage de DICE"
   ]
  },
  {
   "cell_type": "code",
   "execution_count": 6,
   "metadata": {},
   "outputs": [],
   "source": [
    "def dice_train(dataframe, continuous_features,outcome_name, model, backend):\n",
    "    d = dice_ml.Data(dataframe=dataframe, continuous_features=continuous_features, outcome_name=outcome_name)\n",
    "    m = dice_ml.Model(model=model, backend=backend)\n",
    "    exp = dice_ml.Dice(d, m)\n",
    "    return exp\n",
    "\n",
    "def dice_test(query_instance, exp, total_CFs, desired_class, proximityweight=0.5, diversityweight=1.0, featurestovary=\"all\", permittedrange=None, posthocsparsityparam=0.1):\n",
    "    counterfact = exp.generate_counterfactuals(query_instance, total_CFs=total_CFs, desired_class=desired_class, proximity_weight=proximityweight, diversity_weight=diversityweight, features_to_vary=featurestovary, permitted_range=permittedrange, posthoc_sparsity_param=posthocsparsityparam)\n",
    "    return counterfact\n",
    "\n",
    "def visualize_table(counterfact, only_change):\n",
    "    return counterfact.visualize_as_dataframe(show_only_changes= only_change)\n",
    "\n",
    "def visualize_plot(counterfact,X_train_t, X_test_t, y_train_t, model):\n",
    "    plt.scatter(X_train_t[:, 0], X_train_t[:, 1], c=y_train_t)\n",
    "    x_min, x_max = X_train_t[:, 0].min() - 0.1, X_train_t[:, 0].max() + 0.1\n",
    "    y_min, y_max = X_train_t[:, 1].min() - 0.1, X_train_t[:, 1].max() + 0.1\n",
    "    xx, yy = np.meshgrid(np.arange(x_min, x_max, 0.01), np.arange(y_min, y_max, 0.01))\n",
    "    Z = model(torch.tensor(np.c_[xx.ravel(), yy.ravel()], dtype=torch.float32))\n",
    "    Z = Z.reshape(xx.shape)\n",
    "    plt.contourf(xx, yy, Z.detach().numpy(), levels=[0, 0.5, 1], colors=['blue', 'red'], alpha=0.3)\n",
    "    plt.xlabel('Feature 1')\n",
    "    plt.ylabel('Feature 2')\n",
    "    plt.title('Frontière de décision')\n",
    "    plt.plot(X_test_t[0, 0], X_test_t[0, 1], 'r.')\n",
    "    points = counterfact.cf_examples_list[0].final_cfs_df.to_numpy()\n",
    "    plt.plot(points[:, 0], points[:, 1], 'k.')\n",
    "    plt.show()\n",
    "    return "
   ]
  },
  {
   "cell_type": "markdown",
   "metadata": {},
   "source": [
    "# DICE sur régression logistique"
   ]
  },
  {
   "cell_type": "code",
   "execution_count": 7,
   "metadata": {},
   "outputs": [
    {
     "name": "stderr",
     "output_type": "stream",
     "text": [
      "  0%|          | 0/1 [00:00<?, ?it/s]"
     ]
    },
    {
     "name": "stderr",
     "output_type": "stream",
     "text": [
      "100%|██████████| 1/1 [00:12<00:00, 12.74s/it]"
     ]
    },
    {
     "name": "stdout",
     "output_type": "stream",
     "text": [
      "Query instance (original outcome : 0)\n"
     ]
    },
    {
     "name": "stderr",
     "output_type": "stream",
     "text": [
      "\n"
     ]
    },
    {
     "data": {
      "text/html": [
       "<div>\n",
       "<style scoped>\n",
       "    .dataframe tbody tr th:only-of-type {\n",
       "        vertical-align: middle;\n",
       "    }\n",
       "\n",
       "    .dataframe tbody tr th {\n",
       "        vertical-align: top;\n",
       "    }\n",
       "\n",
       "    .dataframe thead th {\n",
       "        text-align: right;\n",
       "    }\n",
       "</style>\n",
       "<table border=\"1\" class=\"dataframe\">\n",
       "  <thead>\n",
       "    <tr style=\"text-align: right;\">\n",
       "      <th></th>\n",
       "      <th>x0</th>\n",
       "      <th>x1</th>\n",
       "      <th>outcome</th>\n",
       "    </tr>\n",
       "  </thead>\n",
       "  <tbody>\n",
       "    <tr>\n",
       "      <th>0</th>\n",
       "      <td>-0.99655</td>\n",
       "      <td>0.069412</td>\n",
       "      <td>0</td>\n",
       "    </tr>\n",
       "  </tbody>\n",
       "</table>\n",
       "</div>"
      ],
      "text/plain": [
       "        x0        x1  outcome\n",
       "0 -0.99655  0.069412        0"
      ]
     },
     "metadata": {},
     "output_type": "display_data"
    },
    {
     "name": "stdout",
     "output_type": "stream",
     "text": [
      "\n",
      "Diverse Counterfactual set (new outcome: 1.0)\n"
     ]
    },
    {
     "data": {
      "text/html": [
       "<div>\n",
       "<style scoped>\n",
       "    .dataframe tbody tr th:only-of-type {\n",
       "        vertical-align: middle;\n",
       "    }\n",
       "\n",
       "    .dataframe tbody tr th {\n",
       "        vertical-align: top;\n",
       "    }\n",
       "\n",
       "    .dataframe thead th {\n",
       "        text-align: right;\n",
       "    }\n",
       "</style>\n",
       "<table border=\"1\" class=\"dataframe\">\n",
       "  <thead>\n",
       "    <tr style=\"text-align: right;\">\n",
       "      <th></th>\n",
       "      <th>x0</th>\n",
       "      <th>x1</th>\n",
       "      <th>outcome</th>\n",
       "    </tr>\n",
       "  </thead>\n",
       "  <tbody>\n",
       "    <tr>\n",
       "      <th>0</th>\n",
       "      <td>1.1336039433</td>\n",
       "      <td>0.0694122207900498</td>\n",
       "      <td>1.0</td>\n",
       "    </tr>\n",
       "    <tr>\n",
       "      <th>1</th>\n",
       "      <td>-0.9965498140531314</td>\n",
       "      <td>-0.5293055073</td>\n",
       "      <td>1.0</td>\n",
       "    </tr>\n",
       "    <tr>\n",
       "      <th>2</th>\n",
       "      <td>-0.9965498140531314</td>\n",
       "      <td>-0.2882890314</td>\n",
       "      <td>1.0</td>\n",
       "    </tr>\n",
       "    <tr>\n",
       "      <th>3</th>\n",
       "      <td>1.7882141439</td>\n",
       "      <td>0.0694122207900498</td>\n",
       "      <td>1.0</td>\n",
       "    </tr>\n",
       "    <tr>\n",
       "      <th>4</th>\n",
       "      <td>0.5895797583</td>\n",
       "      <td>0.0694122207900498</td>\n",
       "      <td>1.0</td>\n",
       "    </tr>\n",
       "    <tr>\n",
       "      <th>5</th>\n",
       "      <td>-0.9965498140531314</td>\n",
       "      <td>-0.474317283</td>\n",
       "      <td>1.0</td>\n",
       "    </tr>\n",
       "    <tr>\n",
       "      <th>6</th>\n",
       "      <td>2.0029458852</td>\n",
       "      <td>-0.1797644536</td>\n",
       "      <td>1.0</td>\n",
       "    </tr>\n",
       "    <tr>\n",
       "      <th>7</th>\n",
       "      <td>1.7047815272</td>\n",
       "      <td>0.0694122207900498</td>\n",
       "      <td>1.0</td>\n",
       "    </tr>\n",
       "    <tr>\n",
       "      <th>8</th>\n",
       "      <td>1.6407543062</td>\n",
       "      <td>-0.3978379953</td>\n",
       "      <td>1.0</td>\n",
       "    </tr>\n",
       "    <tr>\n",
       "      <th>9</th>\n",
       "      <td>0.762373471</td>\n",
       "      <td>0.05058116150001335</td>\n",
       "      <td>1.0</td>\n",
       "    </tr>\n",
       "  </tbody>\n",
       "</table>\n",
       "</div>"
      ],
      "text/plain": [
       "                    x0                   x1 outcome\n",
       "0         1.1336039433   0.0694122207900498     1.0\n",
       "1  -0.9965498140531314        -0.5293055073     1.0\n",
       "2  -0.9965498140531314        -0.2882890314     1.0\n",
       "3         1.7882141439   0.0694122207900498     1.0\n",
       "4         0.5895797583   0.0694122207900498     1.0\n",
       "5  -0.9965498140531314         -0.474317283     1.0\n",
       "6         2.0029458852        -0.1797644536     1.0\n",
       "7         1.7047815272   0.0694122207900498     1.0\n",
       "8         1.6407543062        -0.3978379953     1.0\n",
       "9          0.762373471  0.05058116150001335     1.0"
      ]
     },
     "metadata": {},
     "output_type": "display_data"
    },
    {
     "name": "stdout",
     "output_type": "stream",
     "text": [
      "None\n"
     ]
    },
    {
     "data": {
      "image/png": "[encoded data removed]",
      "text/plain": [
       "<Figure size 432x288 with 1 Axes>"
      ]
     },
     "metadata": {
      "needs_background": "light"
     },
     "output_type": "display_data"
    }
   ],
   "source": [
    "dice_tr = dice_train(train_pd, ['x0','x1'] , 'outcome', model, \"PYT\")\n",
    "dice_te = dice_test(test_pd[0:1], dice_tr,10, desired_class= \"opposite\")\n",
    "print(visualize_table(dice_te, True))\n",
    "visualize_plot(dice_te, X_train_t, X_test_t, y_train_t, model)"
   ]
  },
  {
   "cell_type": "markdown",
   "metadata": {},
   "source": [
    "# Implémentation d'un reseau de neurones sur Pytorch "
   ]
  },
  {
   "cell_type": "code",
   "execution_count": 26,
   "metadata": {},
   "outputs": [
    {
     "name": "stdout",
     "output_type": "stream",
     "text": [
      "Epoch [100/5000], Loss: 0.3857\n",
      "Epoch [200/5000], Loss: 0.2583\n",
      "Epoch [300/5000], Loss: 0.2024\n",
      "Epoch [400/5000], Loss: 0.1680\n",
      "Epoch [500/5000], Loss: 0.1397\n",
      "Epoch [600/5000], Loss: 0.1139\n",
      "Epoch [700/5000], Loss: 0.0909\n",
      "Epoch [800/5000], Loss: 0.0717\n",
      "Epoch [900/5000], Loss: 0.0565\n",
      "Epoch [1000/5000], Loss: 0.0450\n",
      "Epoch [1100/5000], Loss: 0.0362\n",
      "Epoch [1200/5000], Loss: 0.0295\n",
      "Epoch [1300/5000], Loss: 0.0243\n",
      "Epoch [1400/5000], Loss: 0.0203\n",
      "Epoch [1500/5000], Loss: 0.0172\n",
      "Epoch [1600/5000], Loss: 0.0147\n",
      "Epoch [1700/5000], Loss: 0.0126\n",
      "Epoch [1800/5000], Loss: 0.0110\n",
      "Epoch [1900/5000], Loss: 0.0096\n",
      "Epoch [2000/5000], Loss: 0.0084\n",
      "Epoch [2100/5000], Loss: 0.0074\n",
      "Epoch [2200/5000], Loss: 0.0066\n",
      "Epoch [2300/5000], Loss: 0.0059\n",
      "Epoch [2400/5000], Loss: 0.0053\n",
      "Epoch [2500/5000], Loss: 0.0048\n",
      "Epoch [2600/5000], Loss: 0.0043\n",
      "Epoch [2700/5000], Loss: 0.0039\n",
      "Epoch [2800/5000], Loss: 0.0035\n",
      "Epoch [2900/5000], Loss: 0.0032\n",
      "Epoch [3000/5000], Loss: 0.0029\n",
      "Epoch [3100/5000], Loss: 0.0027\n",
      "Epoch [3200/5000], Loss: 0.0025\n",
      "Epoch [3300/5000], Loss: 0.0023\n",
      "Epoch [3400/5000], Loss: 0.0021\n",
      "Epoch [3500/5000], Loss: 0.0019\n",
      "Epoch [3600/5000], Loss: 0.0018\n",
      "Epoch [3700/5000], Loss: 0.0016\n",
      "Epoch [3800/5000], Loss: 0.0015\n",
      "Epoch [3900/5000], Loss: 0.0014\n",
      "Epoch [4000/5000], Loss: 0.0013\n",
      "Epoch [4100/5000], Loss: 0.0012\n",
      "Epoch [4200/5000], Loss: 0.0011\n",
      "Epoch [4300/5000], Loss: 0.0010\n",
      "Epoch [4400/5000], Loss: 0.0010\n",
      "Epoch [4500/5000], Loss: 0.0009\n",
      "Epoch [4600/5000], Loss: 0.0008\n",
      "Epoch [4700/5000], Loss: 0.0008\n",
      "Epoch [4800/5000], Loss: 0.0007\n",
      "Epoch [4900/5000], Loss: 0.0007\n",
      "Epoch [5000/5000], Loss: 0.0006\n"
     ]
    }
   ],
   "source": [
    "# Define the neural network model\n",
    "class SimpleNN(nn.Module):\n",
    "    def __init__(self, input_dim):\n",
    "        super(SimpleNN, self).__init__()\n",
    "        self.fc1 = nn.Linear(input_dim, 64)  # Input layer to hidden layer\n",
    "        self.relu = nn.ReLU()\n",
    "        self.fc2 = nn.Linear(64, 1)  # Hidden layer to output layer\n",
    "        self.sigmoid = nn.Sigmoid()\n",
    "\n",
    "    def forward(self, x):\n",
    "        x = self.fc1(x)\n",
    "        x = self.relu(x)\n",
    "        x = self.fc2(x)\n",
    "        x = self.sigmoid(x)\n",
    "        return x\n",
    "\n",
    "# Initialize the model\n",
    "input_dim = X_train_t.shape[1]\n",
    "model = SimpleNN(input_dim)\n",
    "\n",
    "# Define the loss function and optimizer\n",
    "criterion = nn.BCELoss()\n",
    "optimizer = optim.Adam(model.parameters(), lr=0.001)\n",
    "\n",
    "# Training loop\n",
    "epochs = 5000\n",
    "for epoch in range(epochs):\n",
    "    optimizer.zero_grad()\n",
    "    outputs = model(X_train_t)\n",
    "    loss = criterion(outputs, y_train_t.view(-1, 1))\n",
    "    loss.backward()\n",
    "    optimizer.step()\n",
    "\n",
    "    if (epoch + 1) % 100 == 0:\n",
    "        print(f'Epoch [{epoch+1}/{epochs}], Loss: {loss.item():.4f}')\n",
    "\n",
    "\n",
    "# Évaluer le modèle sur des données de test\n",
    "with torch.no_grad():\n",
    "    predicted = model(X_test_t)\n",
    "    predicted_class = (predicted >= 0.5).float()"
   ]
  },
  {
   "cell_type": "markdown",
   "metadata": {},
   "source": [
    "# DICE sur NN"
   ]
  },
  {
   "cell_type": "code",
   "execution_count": 9,
   "metadata": {},
   "outputs": [
    {
     "name": "stderr",
     "output_type": "stream",
     "text": [
      "  0%|          | 0/4 [00:00<?, ?it/s]"
     ]
    },
    {
     "name": "stderr",
     "output_type": "stream",
     "text": [
      "100%|██████████| 4/4 [00:00<00:00,  9.14it/s]"
     ]
    },
    {
     "name": "stdout",
     "output_type": "stream",
     "text": [
      "Query instance (original outcome : 0)\n"
     ]
    },
    {
     "name": "stderr",
     "output_type": "stream",
     "text": [
      "\n"
     ]
    },
    {
     "data": {
      "text/html": [
       "<div>\n",
       "<style scoped>\n",
       "    .dataframe tbody tr th:only-of-type {\n",
       "        vertical-align: middle;\n",
       "    }\n",
       "\n",
       "    .dataframe tbody tr th {\n",
       "        vertical-align: top;\n",
       "    }\n",
       "\n",
       "    .dataframe thead th {\n",
       "        text-align: right;\n",
       "    }\n",
       "</style>\n",
       "<table border=\"1\" class=\"dataframe\">\n",
       "  <thead>\n",
       "    <tr style=\"text-align: right;\">\n",
       "      <th></th>\n",
       "      <th>x0</th>\n",
       "      <th>x1</th>\n",
       "      <th>outcome</th>\n",
       "    </tr>\n",
       "  </thead>\n",
       "  <tbody>\n",
       "    <tr>\n",
       "      <th>0</th>\n",
       "      <td>-0.99655</td>\n",
       "      <td>0.069412</td>\n",
       "      <td>0</td>\n",
       "    </tr>\n",
       "  </tbody>\n",
       "</table>\n",
       "</div>"
      ],
      "text/plain": [
       "        x0        x1  outcome\n",
       "0 -0.99655  0.069412        0"
      ]
     },
     "metadata": {},
     "output_type": "display_data"
    },
    {
     "name": "stdout",
     "output_type": "stream",
     "text": [
      "\n",
      "Diverse Counterfactual set (new outcome: 1.0)\n"
     ]
    },
    {
     "data": {
      "text/html": [
       "<div>\n",
       "<style scoped>\n",
       "    .dataframe tbody tr th:only-of-type {\n",
       "        vertical-align: middle;\n",
       "    }\n",
       "\n",
       "    .dataframe tbody tr th {\n",
       "        vertical-align: top;\n",
       "    }\n",
       "\n",
       "    .dataframe thead th {\n",
       "        text-align: right;\n",
       "    }\n",
       "</style>\n",
       "<table border=\"1\" class=\"dataframe\">\n",
       "  <thead>\n",
       "    <tr style=\"text-align: right;\">\n",
       "      <th></th>\n",
       "      <th>x0</th>\n",
       "      <th>x1</th>\n",
       "      <th>outcome</th>\n",
       "    </tr>\n",
       "  </thead>\n",
       "  <tbody>\n",
       "    <tr>\n",
       "      <th>0</th>\n",
       "      <td>1.0955387638</td>\n",
       "      <td>-0.4409981486</td>\n",
       "      <td>1.0</td>\n",
       "    </tr>\n",
       "    <tr>\n",
       "      <th>1</th>\n",
       "      <td>0.273318859</td>\n",
       "      <td>0.0694122207900498</td>\n",
       "      <td>1.0</td>\n",
       "    </tr>\n",
       "    <tr>\n",
       "      <th>2</th>\n",
       "      <td>2.0026089787</td>\n",
       "      <td>0.0694122207900498</td>\n",
       "      <td>1.0</td>\n",
       "    </tr>\n",
       "    <tr>\n",
       "      <th>3</th>\n",
       "      <td>1.6470488174</td>\n",
       "      <td>0.0694122207900498</td>\n",
       "      <td>1.0</td>\n",
       "    </tr>\n",
       "    <tr>\n",
       "      <th>4</th>\n",
       "      <td>0.0046429193</td>\n",
       "      <td>0.0694122207900498</td>\n",
       "      <td>1.0</td>\n",
       "    </tr>\n",
       "  </tbody>\n",
       "</table>\n",
       "</div>"
      ],
      "text/plain": [
       "             x0                  x1 outcome\n",
       "0  1.0955387638       -0.4409981486     1.0\n",
       "1   0.273318859  0.0694122207900498     1.0\n",
       "2  2.0026089787  0.0694122207900498     1.0\n",
       "3  1.6470488174  0.0694122207900498     1.0\n",
       "4  0.0046429193  0.0694122207900498     1.0"
      ]
     },
     "metadata": {},
     "output_type": "display_data"
    },
    {
     "name": "stdout",
     "output_type": "stream",
     "text": [
      "Query instance (original outcome : 1)\n"
     ]
    },
    {
     "data": {
      "text/html": [
       "<div>\n",
       "<style scoped>\n",
       "    .dataframe tbody tr th:only-of-type {\n",
       "        vertical-align: middle;\n",
       "    }\n",
       "\n",
       "    .dataframe tbody tr th {\n",
       "        vertical-align: top;\n",
       "    }\n",
       "\n",
       "    .dataframe thead th {\n",
       "        text-align: right;\n",
       "    }\n",
       "</style>\n",
       "<table border=\"1\" class=\"dataframe\">\n",
       "  <thead>\n",
       "    <tr style=\"text-align: right;\">\n",
       "      <th></th>\n",
       "      <th>x0</th>\n",
       "      <th>x1</th>\n",
       "      <th>outcome</th>\n",
       "    </tr>\n",
       "  </thead>\n",
       "  <tbody>\n",
       "    <tr>\n",
       "      <th>0</th>\n",
       "      <td>2.030213</td>\n",
       "      <td>0.389698</td>\n",
       "      <td>1</td>\n",
       "    </tr>\n",
       "  </tbody>\n",
       "</table>\n",
       "</div>"
      ],
      "text/plain": [
       "         x0        x1  outcome\n",
       "0  2.030213  0.389698        1"
      ]
     },
     "metadata": {},
     "output_type": "display_data"
    },
    {
     "name": "stdout",
     "output_type": "stream",
     "text": [
      "\n",
      "Diverse Counterfactual set (new outcome: 0.0)\n"
     ]
    },
    {
     "data": {
      "text/html": [
       "<div>\n",
       "<style scoped>\n",
       "    .dataframe tbody tr th:only-of-type {\n",
       "        vertical-align: middle;\n",
       "    }\n",
       "\n",
       "    .dataframe tbody tr th {\n",
       "        vertical-align: top;\n",
       "    }\n",
       "\n",
       "    .dataframe thead th {\n",
       "        text-align: right;\n",
       "    }\n",
       "</style>\n",
       "<table border=\"1\" class=\"dataframe\">\n",
       "  <thead>\n",
       "    <tr style=\"text-align: right;\">\n",
       "      <th></th>\n",
       "      <th>x0</th>\n",
       "      <th>x1</th>\n",
       "      <th>outcome</th>\n",
       "    </tr>\n",
       "  </thead>\n",
       "  <tbody>\n",
       "    <tr>\n",
       "      <th>0</th>\n",
       "      <td>-0.7870836389</td>\n",
       "      <td>1.0305126985</td>\n",
       "      <td>0.0</td>\n",
       "    </tr>\n",
       "    <tr>\n",
       "      <th>1</th>\n",
       "      <td>0.7865916321</td>\n",
       "      <td>0.3896978658347243</td>\n",
       "      <td>0.0</td>\n",
       "    </tr>\n",
       "    <tr>\n",
       "      <th>2</th>\n",
       "      <td>1.1422234682</td>\n",
       "      <td>0.6269895907</td>\n",
       "      <td>0.0</td>\n",
       "    </tr>\n",
       "    <tr>\n",
       "      <th>3</th>\n",
       "      <td>1.4778692196</td>\n",
       "      <td>0.3896978658347243</td>\n",
       "      <td>0.0</td>\n",
       "    </tr>\n",
       "    <tr>\n",
       "      <th>4</th>\n",
       "      <td>1.1030628885</td>\n",
       "      <td>1.0880918855</td>\n",
       "      <td>0.0</td>\n",
       "    </tr>\n",
       "  </tbody>\n",
       "</table>\n",
       "</div>"
      ],
      "text/plain": [
       "              x0                  x1 outcome\n",
       "0  -0.7870836389        1.0305126985     0.0\n",
       "1   0.7865916321  0.3896978658347243     0.0\n",
       "2   1.1422234682        0.6269895907     0.0\n",
       "3   1.4778692196  0.3896978658347243     0.0\n",
       "4   1.1030628885        1.0880918855     0.0"
      ]
     },
     "metadata": {},
     "output_type": "display_data"
    },
    {
     "name": "stdout",
     "output_type": "stream",
     "text": [
      "Query instance (original outcome : 0)\n"
     ]
    },
    {
     "data": {
      "text/html": [
       "<div>\n",
       "<style scoped>\n",
       "    .dataframe tbody tr th:only-of-type {\n",
       "        vertical-align: middle;\n",
       "    }\n",
       "\n",
       "    .dataframe tbody tr th {\n",
       "        vertical-align: top;\n",
       "    }\n",
       "\n",
       "    .dataframe thead th {\n",
       "        text-align: right;\n",
       "    }\n",
       "</style>\n",
       "<table border=\"1\" class=\"dataframe\">\n",
       "  <thead>\n",
       "    <tr style=\"text-align: right;\">\n",
       "      <th></th>\n",
       "      <th>x0</th>\n",
       "      <th>x1</th>\n",
       "      <th>outcome</th>\n",
       "    </tr>\n",
       "  </thead>\n",
       "  <tbody>\n",
       "    <tr>\n",
       "      <th>0</th>\n",
       "      <td>-0.675195</td>\n",
       "      <td>0.761894</td>\n",
       "      <td>0</td>\n",
       "    </tr>\n",
       "  </tbody>\n",
       "</table>\n",
       "</div>"
      ],
      "text/plain": [
       "         x0        x1  outcome\n",
       "0 -0.675195  0.761894        0"
      ]
     },
     "metadata": {},
     "output_type": "display_data"
    },
    {
     "name": "stdout",
     "output_type": "stream",
     "text": [
      "\n",
      "Diverse Counterfactual set (new outcome: 1.0)\n"
     ]
    },
    {
     "data": {
      "text/html": [
       "<div>\n",
       "<style scoped>\n",
       "    .dataframe tbody tr th:only-of-type {\n",
       "        vertical-align: middle;\n",
       "    }\n",
       "\n",
       "    .dataframe tbody tr th {\n",
       "        vertical-align: top;\n",
       "    }\n",
       "\n",
       "    .dataframe thead th {\n",
       "        text-align: right;\n",
       "    }\n",
       "</style>\n",
       "<table border=\"1\" class=\"dataframe\">\n",
       "  <thead>\n",
       "    <tr style=\"text-align: right;\">\n",
       "      <th></th>\n",
       "      <th>x0</th>\n",
       "      <th>x1</th>\n",
       "      <th>outcome</th>\n",
       "    </tr>\n",
       "  </thead>\n",
       "  <tbody>\n",
       "    <tr>\n",
       "      <th>0</th>\n",
       "      <td>-0.2223719276</td>\n",
       "      <td>-0.2747629693</td>\n",
       "      <td>1.0</td>\n",
       "    </tr>\n",
       "    <tr>\n",
       "      <th>1</th>\n",
       "      <td>-0.5014695894</td>\n",
       "      <td>-0.55513066</td>\n",
       "      <td>1.0</td>\n",
       "    </tr>\n",
       "    <tr>\n",
       "      <th>2</th>\n",
       "      <td>2.0354304462</td>\n",
       "      <td>-0.0913729894</td>\n",
       "      <td>1.0</td>\n",
       "    </tr>\n",
       "    <tr>\n",
       "      <th>3</th>\n",
       "      <td>1.5422955998</td>\n",
       "      <td>0.1129735972</td>\n",
       "      <td>1.0</td>\n",
       "    </tr>\n",
       "    <tr>\n",
       "      <th>4</th>\n",
       "      <td>-0.2393987588</td>\n",
       "      <td>-0.2707403883</td>\n",
       "      <td>1.0</td>\n",
       "    </tr>\n",
       "  </tbody>\n",
       "</table>\n",
       "</div>"
      ],
      "text/plain": [
       "              x0             x1 outcome\n",
       "0  -0.2223719276  -0.2747629693     1.0\n",
       "1  -0.5014695894    -0.55513066     1.0\n",
       "2   2.0354304462  -0.0913729894     1.0\n",
       "3   1.5422955998   0.1129735972     1.0\n",
       "4  -0.2393987588  -0.2707403883     1.0"
      ]
     },
     "metadata": {},
     "output_type": "display_data"
    },
    {
     "name": "stdout",
     "output_type": "stream",
     "text": [
      "Query instance (original outcome : 0)\n"
     ]
    },
    {
     "data": {
      "text/html": [
       "<div>\n",
       "<style scoped>\n",
       "    .dataframe tbody tr th:only-of-type {\n",
       "        vertical-align: middle;\n",
       "    }\n",
       "\n",
       "    .dataframe tbody tr th {\n",
       "        vertical-align: top;\n",
       "    }\n",
       "\n",
       "    .dataframe thead th {\n",
       "        text-align: right;\n",
       "    }\n",
       "</style>\n",
       "<table border=\"1\" class=\"dataframe\">\n",
       "  <thead>\n",
       "    <tr style=\"text-align: right;\">\n",
       "      <th></th>\n",
       "      <th>x0</th>\n",
       "      <th>x1</th>\n",
       "      <th>outcome</th>\n",
       "    </tr>\n",
       "  </thead>\n",
       "  <tbody>\n",
       "    <tr>\n",
       "      <th>0</th>\n",
       "      <td>0.12072</td>\n",
       "      <td>0.985973</td>\n",
       "      <td>0</td>\n",
       "    </tr>\n",
       "  </tbody>\n",
       "</table>\n",
       "</div>"
      ],
      "text/plain": [
       "        x0        x1  outcome\n",
       "0  0.12072  0.985973        0"
      ]
     },
     "metadata": {},
     "output_type": "display_data"
    },
    {
     "name": "stdout",
     "output_type": "stream",
     "text": [
      "\n",
      "Diverse Counterfactual set (new outcome: 1.0)\n"
     ]
    },
    {
     "data": {
      "text/html": [
       "<div>\n",
       "<style scoped>\n",
       "    .dataframe tbody tr th:only-of-type {\n",
       "        vertical-align: middle;\n",
       "    }\n",
       "\n",
       "    .dataframe tbody tr th {\n",
       "        vertical-align: top;\n",
       "    }\n",
       "\n",
       "    .dataframe thead th {\n",
       "        text-align: right;\n",
       "    }\n",
       "</style>\n",
       "<table border=\"1\" class=\"dataframe\">\n",
       "  <thead>\n",
       "    <tr style=\"text-align: right;\">\n",
       "      <th></th>\n",
       "      <th>x0</th>\n",
       "      <th>x1</th>\n",
       "      <th>outcome</th>\n",
       "    </tr>\n",
       "  </thead>\n",
       "  <tbody>\n",
       "    <tr>\n",
       "      <th>0</th>\n",
       "      <td>-0.1173506947</td>\n",
       "      <td>-0.5175877111</td>\n",
       "      <td>1.0</td>\n",
       "    </tr>\n",
       "    <tr>\n",
       "      <th>1</th>\n",
       "      <td>0.3865153434</td>\n",
       "      <td>-0.5376298777</td>\n",
       "      <td>1.0</td>\n",
       "    </tr>\n",
       "    <tr>\n",
       "      <th>2</th>\n",
       "      <td>0.12072017440778085</td>\n",
       "      <td>-0.2558464655</td>\n",
       "      <td>1.0</td>\n",
       "    </tr>\n",
       "    <tr>\n",
       "      <th>3</th>\n",
       "      <td>1.7287093893</td>\n",
       "      <td>0.2041246061</td>\n",
       "      <td>1.0</td>\n",
       "    </tr>\n",
       "    <tr>\n",
       "      <th>4</th>\n",
       "      <td>-0.1601800497</td>\n",
       "      <td>-0.2150210272</td>\n",
       "      <td>1.0</td>\n",
       "    </tr>\n",
       "  </tbody>\n",
       "</table>\n",
       "</div>"
      ],
      "text/plain": [
       "                    x0             x1 outcome\n",
       "0        -0.1173506947  -0.5175877111     1.0\n",
       "1         0.3865153434  -0.5376298777     1.0\n",
       "2  0.12072017440778085  -0.2558464655     1.0\n",
       "3         1.7287093893   0.2041246061     1.0\n",
       "4        -0.1601800497  -0.2150210272     1.0"
      ]
     },
     "metadata": {},
     "output_type": "display_data"
    },
    {
     "name": "stdout",
     "output_type": "stream",
     "text": [
      "None\n"
     ]
    },
    {
     "data": {
      "image/png": "[encoded data removed]",
      "text/plain": [
       "<Figure size 432x288 with 1 Axes>"
      ]
     },
     "metadata": {
      "needs_background": "light"
     },
     "output_type": "display_data"
    }
   ],
   "source": [
    "dice_tr = dice_train(train_pd, ['x0','x1'] , 'outcome', model, \"PYT\")\n",
    "query = test_pd[0:4]\n",
    "dice_te = dice_test(query, dice_tr, 5 , desired_class= \"opposite\")\n",
    "print(visualize_table(dice_te,True))\n",
    "visualize_plot(dice_te, X_train_t, X_test_t, y_train_t, model)"
   ]
  },
  {
   "cell_type": "markdown",
   "metadata": {},
   "source": [
    "# Implémentation de critères d'évaluations"
   ]
  },
  {
   "cell_type": "markdown",
   "metadata": {},
   "source": [
    "**Validity**\n",
    "\n",
    "Fraction of examples returned by a method that are actually counterfactuals"
   ]
  },
  {
   "cell_type": "code",
   "execution_count": 10,
   "metadata": {},
   "outputs": [],
   "source": [
    "def prediction_class(model, X_test_t):\n",
    "    with torch.no_grad():\n",
    "        predicted = model(X_test_t)\n",
    "        predicted_class = (predicted >= 0.5).float()\n",
    "    return predicted_class\n",
    "\n",
    "def validity(dice_te, prediction, total_cfs):\n",
    "    w=0\n",
    "    for i in range(len(prediction)):\n",
    "        q = np.ones(total_cfs) * np.array(prediction.reshape(-1)[i])\n",
    "        sol = dice_te.cf_examples_list[i].final_cfs_df.to_numpy()[:,-1].reshape(-1)\n",
    "        w += np.sum(np.where(q!=sol,1,0))\n",
    "\n",
    "    return w/(len(prediction) * total_cfs)"
   ]
  },
  {
   "cell_type": "code",
   "execution_count": 11,
   "metadata": {},
   "outputs": [
    {
     "name": "stdout",
     "output_type": "stream",
     "text": [
      "1.0\n"
     ]
    }
   ],
   "source": [
    "prediction = prediction_class(model,X_test_t[0:4])\n",
    "print(validity(dice_te, prediction, 5))"
   ]
  },
  {
   "cell_type": "markdown",
   "metadata": {},
   "source": [
    "**continuous_Proximity**\n",
    "\n",
    "mean of feature-wise distances between the CF example and the original input"
   ]
  },
  {
   "cell_type": "markdown",
   "metadata": {},
   "source": [
    "$$continuous_proximity = - \\frac{1}{k}\\sum_{i=1}^{k}\\frac{1}{d}\\sum_{p=1}^{d}\\frac{\\mid c^p-x^p \\mid}{MAD_p}$$"
   ]
  },
  {
   "cell_type": "code",
   "execution_count": 12,
   "metadata": {},
   "outputs": [],
   "source": [
    "import scipy.stats as st\n",
    "def continuous_proximity(dice_te, query, X_train):\n",
    "    norma =[]\n",
    "    for i in range(len(query)):\n",
    "        sol = dice_te.cf_examples_list[i].final_cfs_df.to_numpy()[: , 0:-1]\n",
    "        norm = 0\n",
    "        for j in range(0,len(sol)):\n",
    "            for k in range(0,len(sol[j])):\n",
    "                norm += np.abs(sol[j][k]-query[i][k]) / (st.median_abs_deviation(X_train, axis=0)[k])\n",
    "        norma.append(-norm /(query.shape[1]*len(sol)))\n",
    "    return norma"
   ]
  },
  {
   "cell_type": "code",
   "execution_count": 13,
   "metadata": {},
   "outputs": [
    {
     "data": {
      "text/plain": [
       "[-1.8410045128676398, -1.4578769588219471, -2.1119654701275743]"
      ]
     },
     "execution_count": 13,
     "metadata": {},
     "output_type": "execute_result"
    }
   ],
   "source": [
    "continuous_proximity(dice_te, X_test[0:3], X_train)"
   ]
  },
  {
   "cell_type": "markdown",
   "metadata": {},
   "source": [
    "**proximité catégorielle**"
   ]
  },
  {
   "cell_type": "markdown",
   "metadata": {},
   "source": [
    "Pour la proximité categorielle qui n'est pas nécessaire dans cet exemple n'ayant que des valeurs continues, on attribue 1 si la dimension est de la meme classe sinon 0."
   ]
  },
  {
   "cell_type": "code",
   "execution_count": 14,
   "metadata": {},
   "outputs": [],
   "source": [
    "def categorial_proximity(dice_te, query):\n",
    "    n = query.shape[1]\n",
    "    norma =[]\n",
    "    for i in range(len(query)):\n",
    "        sol = dice_te.cf_examples_list[i].final_cfs_df.to_numpy()[: , 0:-1]\n",
    "        norm = 0\n",
    "        for j in range(len(sol)):\n",
    "            for k in range(len(sol[j])):\n",
    "                d += np.sum(np.where(sol[j][k] != query[i][k], 1, 0))\n",
    "            \n",
    "        norma.append(1 - (d / (len(sol)*len(query))))\n",
    "    return norma"
   ]
  },
  {
   "cell_type": "markdown",
   "metadata": {},
   "source": [
    "**Parcimonie**\n",
    "\n",
    "number of changes between the original input and a generated counterfactual"
   ]
  },
  {
   "cell_type": "markdown",
   "metadata": {},
   "source": [
    "$$parcimonie = 1 - \\frac{1}{kd}\\sum_{i=1}^{k}\\sum_{l=1}^{d}1_{(c_i^l-x_i^p)}$$"
   ]
  },
  {
   "cell_type": "markdown",
   "metadata": {},
   "source": [
    "Plus la parcimonie est proche de 1 moins il y a eu de changement effectué dans les dimensions"
   ]
  },
  {
   "cell_type": "code",
   "execution_count": 15,
   "metadata": {},
   "outputs": [],
   "source": [
    "def parcimonie(dice_te, query):\n",
    "    tot = [] \n",
    "    for i in range(len(query)):\n",
    "        sol = dice_te.cf_examples_list[i].final_cfs_df.to_numpy()[: , 0:-1]\n",
    "        x = query[i].reshape(1,-1)\n",
    "        d = 0\n",
    "        for j in range(len(sol)):\n",
    "            d += (sol[j] != x).sum()\n",
    "        tot.append(1 - (d/(len(sol)*len(query))))\n",
    "\n",
    "    return tot"
   ]
  },
  {
   "cell_type": "code",
   "execution_count": 16,
   "metadata": {},
   "outputs": [
    {
     "data": {
      "text/plain": [
       "[0.4, 0.19999999999999996]"
      ]
     },
     "execution_count": 16,
     "metadata": {},
     "output_type": "execute_result"
    }
   ],
   "source": [
    "parcimonie(dice_te, X_test[0:2])"
   ]
  },
  {
   "cell_type": "markdown",
   "metadata": {},
   "source": [
    "Dice propose aussi 2 critères local feature importance et la flobal feature importance"
   ]
  },
  {
   "cell_type": "markdown",
   "metadata": {},
   "source": [
    "Local feature importance scores"
   ]
  },
  {
   "cell_type": "code",
   "execution_count": 17,
   "metadata": {},
   "outputs": [
    {
     "name": "stderr",
     "output_type": "stream",
     "text": [
      "  0%|          | 0/1 [00:00<?, ?it/s]"
     ]
    },
    {
     "name": "stderr",
     "output_type": "stream",
     "text": [
      "100%|██████████| 1/1 [00:56<00:00, 56.45s/it]"
     ]
    },
    {
     "name": "stdout",
     "output_type": "stream",
     "text": [
      "[{'x0': 0.96, 'x1': 0.44}]\n"
     ]
    },
    {
     "name": "stderr",
     "output_type": "stream",
     "text": [
      "\n"
     ]
    }
   ],
   "source": [
    "query = test_pd[0:1]\n",
    "imp = dice_tr.local_feature_importance(query, total_CFs=100)\n",
    "print(imp.local_importance)"
   ]
  },
  {
   "cell_type": "markdown",
   "metadata": {},
   "source": [
    "Global feature importance scores"
   ]
  },
  {
   "cell_type": "code",
   "execution_count": 18,
   "metadata": {},
   "outputs": [
    {
     "name": "stderr",
     "output_type": "stream",
     "text": [
      "100%|██████████| 11/11 [00:27<00:00,  2.46s/it]"
     ]
    },
    {
     "name": "stdout",
     "output_type": "stream",
     "text": [
      "{'x1': 0.8818181818181818, 'x0': 0.5636363636363636}\n"
     ]
    },
    {
     "name": "stderr",
     "output_type": "stream",
     "text": [
      "\n"
     ]
    }
   ],
   "source": [
    "query_instances = test_pd[0:11]\n",
    "imp = dice_tr.global_feature_importance(query_instances)\n",
    "print(imp.summary_importance)"
   ]
  },
  {
   "cell_type": "markdown",
   "metadata": {},
   "source": [
    "# Observation de l'evolution lors de l'évolution des paramètres"
   ]
  },
  {
   "cell_type": "code",
   "execution_count": 18,
   "metadata": {},
   "outputs": [
    {
     "name": "stderr",
     "output_type": "stream",
     "text": [
      "  0%|          | 0/10 [00:00<?, ?it/s]"
     ]
    },
    {
     "name": "stderr",
     "output_type": "stream",
     "text": [
      "100%|██████████| 10/10 [00:13<00:00,  1.34s/it]\n",
      "100%|██████████| 10/10 [00:40<00:00,  4.01s/it]\n",
      "100%|██████████| 10/10 [00:54<00:00,  5.42s/it]\n",
      "100%|██████████| 10/10 [00:55<00:00,  5.58s/it]\n",
      "100%|██████████| 10/10 [00:40<00:00,  4.00s/it]\n"
     ]
    }
   ],
   "source": [
    "dice_tr = dice_train(train_pd, ['x0','x1'] , 'outcome', model, \"PYT\")\n",
    "query = test_pd[0:10]\n",
    "dice_t= []\n",
    "prediction = []\n",
    "validi= []\n",
    "prox = []\n",
    "parc = []\n",
    "for i in range(2,11,2):\n",
    "    dice_te = dice_test(query, dice_tr,  i , desired_class= \"opposite\")\n",
    "    dice_t.append(dice_te)\n",
    "    pred = prediction_class(model, X_test_t[0:10])\n",
    "    prediction.append(pred)\n",
    "    val = validity(dice_te, pred, i)\n",
    "    validi.append(val)\n",
    "    prox.append(continuous_proximity(dice_te, X_test[0:10], X_train))\n",
    "    parc.append(parcimonie(dice_te, X_test[0:10]))"
   ]
  },
  {
   "cell_type": "code",
   "execution_count": 19,
   "metadata": {},
   "outputs": [
    {
     "name": "stderr",
     "output_type": "stream",
     "text": [
      "100%|██████████| 10/10 [00:26<00:00,  2.66s/it]\n",
      "100%|██████████| 10/10 [00:00<00:00, 11.55it/s]\n",
      "100%|██████████| 10/10 [00:37<00:00,  3.80s/it]\n",
      "100%|██████████| 10/10 [00:38<00:00,  3.90s/it]\n",
      "100%|██████████| 10/10 [00:36<00:00,  3.68s/it]\n"
     ]
    }
   ],
   "source": [
    "dice_t2= []\n",
    "prediction2 = []\n",
    "validi2= []\n",
    "prox2 = []\n",
    "parc2 = []\n",
    "for i in range(2,11,2):\n",
    "    dice_te2 = dice_test(query, dice_tr,  i , desired_class= \"opposite\", proximityweight=0.01)\n",
    "    dice_t2.append(dice_te2)\n",
    "    prediction2=prediction_class(model, X_test_t[0:10])\n",
    "    validi2.append(validity(dice_te2, prediction2, i))\n",
    "    prox2.append(continuous_proximity(dice_te2, X_test[0:10], X_train))\n",
    "    parc2.append(parcimonie(dice_te2, X_test[0:10]))"
   ]
  },
  {
   "cell_type": "code",
   "execution_count": 20,
   "metadata": {},
   "outputs": [
    {
     "name": "stderr",
     "output_type": "stream",
     "text": [
      "100%|██████████| 10/10 [00:25<00:00,  2.60s/it]\n",
      "100%|██████████| 10/10 [00:00<00:00, 12.22it/s]\n",
      "100%|██████████| 10/10 [01:30<00:00,  9.09s/it]\n",
      "100%|██████████| 10/10 [00:14<00:00,  1.41s/it]\n",
      "100%|██████████| 10/10 [01:05<00:00,  6.51s/it]\n"
     ]
    }
   ],
   "source": [
    "dice_t3= []\n",
    "prediction3 = []\n",
    "validi3= []\n",
    "prox3 = []\n",
    "parc3 = []\n",
    "for i in range(2,11,2):\n",
    "    dice_te3 = dice_test(query, dice_tr,  i , desired_class= \"opposite\", proximityweight=0.99)\n",
    "    dice_t3.append(dice_te3)\n",
    "    prediction3=prediction_class(model, X_test_t[0:10])\n",
    "    validi3.append(validity(dice_te3, prediction3, i))\n",
    "    prox3.append(continuous_proximity(dice_te3, X_test[0:10], X_train))\n",
    "    parc3.append(parcimonie(dice_te3, X_test[0:10]))"
   ]
  },
  {
   "cell_type": "code",
   "execution_count": 21,
   "metadata": {},
   "outputs": [
    {
     "name": "stderr",
     "output_type": "stream",
     "text": [
      "100%|██████████| 10/10 [00:00<00:00, 19.07it/s]\n",
      "100%|██████████| 10/10 [00:00<00:00, 17.55it/s]\n",
      "100%|██████████| 10/10 [00:00<00:00, 15.76it/s]\n",
      "100%|██████████| 10/10 [00:00<00:00, 15.79it/s]\n",
      "100%|██████████| 10/10 [00:00<00:00, 14.38it/s]\n"
     ]
    }
   ],
   "source": [
    "dice_t4= []\n",
    "prediction4 = []\n",
    "validi4= []\n",
    "prox4 = []\n",
    "parc4 = []\n",
    "for i in range(2,11,2):\n",
    "    dice_te4 = dice_test(query, dice_tr,  i , desired_class= \"opposite\", featurestovary=[\"x1\"])\n",
    "    dice_t4.append(dice_te4)\n",
    "    prediction4=prediction_class(model, X_test_t[0:10])\n",
    "    validi4.append(validity(dice_te4, prediction4, i))\n",
    "    prox4.append(continuous_proximity(dice_te4, X_test[0:10], X_train))\n",
    "    parc4.append(parcimonie(dice_te4, X_test[0:10]))"
   ]
  },
  {
   "cell_type": "code",
   "execution_count": 30,
   "metadata": {},
   "outputs": [
    {
     "data": {
      "image/png": "[encoded data removed]",
      "text/plain": [
       "<Figure size 1080x720 with 3 Axes>"
      ]
     },
     "metadata": {
      "needs_background": "light"
     },
     "output_type": "display_data"
    }
   ],
   "source": [
    "axe = [2,4,6,8,10]\n",
    "plt.figure(figsize=(15, 10))\n",
    "plt.subplot(1,3,1)\n",
    "plt.plot(axe, validi, 'r.-', label=\"standard\")\n",
    "plt.plot(axe, validi2, 'b.-', label=\"proximityweight=0.01\")\n",
    "plt.plot(axe, validi3, 'g.-', label=\"proximityweight=0.99\")\n",
    "plt.plot(axe, validi4, 'y.-', label=\"featurestovary=['x1']\")\n",
    "plt.title(\"Validité moyenne fct de CFs\")\n",
    "plt.legend()\n",
    "plt.subplot(1,3,2)\n",
    "plt.plot(axe, [np.array(prox[i]).sum()/len(prox[i]) for i in range(len(prox))], 'r.-', label = \"standard\")\n",
    "plt.plot(axe, [np.array(prox2[i]).sum()/len(prox2[i]) for i in range(len(prox2))], 'b.-', label=\"proximityweight=0.01\") \n",
    "plt.plot(axe, [np.array(prox3[i]).sum()/len(prox3[i]) for i in range(len(prox3))], 'g.-' , label=\"proximityweight=0.99\")\n",
    "plt.plot(axe, [np.array(prox4[i]).sum()/len(prox4[i]) for i in range(len(prox4))], 'y.-', label=\"featurestovary=['x1']\")\n",
    "plt.title(\"Proximité continue moyenne fct de CFs\")\n",
    "plt.legend()\n",
    "plt.subplot(1,3,3)\n",
    "plt.plot(axe, [np.array(parc[i]).sum()/len(parc[i]) for i in range(len(parc))], 'r.-', label = \"standard\")\n",
    "plt.plot(axe, [np.array(parc2[i]).sum()/len(parc2[i]) for i in range(len(parc2))], 'b.-', label=\"proximityweight=0.01\")\n",
    "plt.plot(axe, [np.array(parc3[i]).sum()/len(parc3[i]) for i in range(len(parc3))], 'g.-', label=\"proximityweight=0.99\")\n",
    "plt.plot(axe, [np.array(parc4[i]).sum()/len(parc4[i]) for i in range(len(parc4))], 'y.-', label=\"featurestovary=['x1']\")\n",
    "plt.title(\"Parcimonie moyenne fct de CFs\")\n",
    "plt.legend()\n",
    "plt.show()"
   ]
  },
  {
   "cell_type": "markdown",
   "metadata": {},
   "source": [
    "Nous avons étudié la validité, la proximité et la parcimonie en fonction du nombre de CFs créés et selon les paramètres du modele ( standard proximity_weight = 0.5 , proximity_weight =0.01, proximity_weight = 0.99 et feature pouvant varié X1 mais pas X0)\n",
    "- On peut voir qu'avec desired_class='opposite' , peu importe le nombre de CFs créés, tous les modeles ont une validité de 1 ainsi il n'y a pas de de CFs de la meme classe que le point étudié.\n",
    "- De manière intéressante on a l'impression que la proximité et la parcimonie sont corrélées. \n",
    "- Comme attendu, si l'on bloque une dimension, la parcimonie est constante et plus élevée que pour les autres modeles qui potentiellement peuvent avoir 1 ou 2 dimensions modifiées par CF (vs 1 seule pour le model feature_to_vary =['x1']). La proximité pour le modele feature to vary est plus élevée que les autres modèles probablement en raison de la correlation entre proximité et parcimonie.\n",
    "- Plus la proximity_weight est élevée, plus on estt censé favoriser la proximité, cepedant, il semble compliqué d'étudier l'effet de ce parametre.  EN effet sur cette echantillon et ce modele, il ne semble pas y avoir de réel effet de cet hyperparametre sur la proximité et la parcimonie."
   ]
  },
  {
   "cell_type": "markdown",
   "metadata": {},
   "source": [
    "# DICE sur autres données"
   ]
  },
  {
   "cell_type": "code",
   "execution_count": 19,
   "metadata": {},
   "outputs": [
    {
     "name": "stderr",
     "output_type": "stream",
     "text": [
      "2023-10-09 17:09:48.609808: I tensorflow/core/platform/cpu_feature_guard.cc:182] This TensorFlow binary is optimized to use available CPU instructions in performance-critical operations.\n",
      "To enable the following instructions: AVX2 FMA, in other operations, rebuild TensorFlow with the appropriate compiler flags.\n",
      "2023-10-09 17:09:49.821548: W tensorflow/compiler/tf2tensorrt/utils/py_utils.cc:38] TF-TRT Warning: Could not find TensorRT\n",
      "2023-10-09 17:09:51.105028: I tensorflow/compiler/xla/stream_executor/cuda/cuda_gpu_executor.cc:981] could not open file to read NUMA node: /sys/bus/pci/devices/0000:01:00.0/numa_node\n",
      "Your kernel may have been built without NUMA support.\n",
      "2023-10-09 17:09:51.373833: I tensorflow/compiler/xla/stream_executor/cuda/cuda_gpu_executor.cc:981] could not open file to read NUMA node: /sys/bus/pci/devices/0000:01:00.0/numa_node\n",
      "Your kernel may have been built without NUMA support.\n",
      "2023-10-09 17:09:51.373967: I tensorflow/compiler/xla/stream_executor/cuda/cuda_gpu_executor.cc:981] could not open file to read NUMA node: /sys/bus/pci/devices/0000:01:00.0/numa_node\n",
      "Your kernel may have been built without NUMA support.\n",
      "2023-10-09 17:09:51.378866: I tensorflow/compiler/xla/stream_executor/cuda/cuda_gpu_executor.cc:981] could not open file to read NUMA node: /sys/bus/pci/devices/0000:01:00.0/numa_node\n",
      "Your kernel may have been built without NUMA support.\n",
      "2023-10-09 17:09:51.379074: I tensorflow/compiler/xla/stream_executor/cuda/cuda_gpu_executor.cc:981] could not open file to read NUMA node: /sys/bus/pci/devices/0000:01:00.0/numa_node\n",
      "Your kernel may have been built without NUMA support.\n",
      "2023-10-09 17:09:51.379149: I tensorflow/compiler/xla/stream_executor/cuda/cuda_gpu_executor.cc:981] could not open file to read NUMA node: /sys/bus/pci/devices/0000:01:00.0/numa_node\n",
      "Your kernel may have been built without NUMA support.\n",
      "2023-10-09 17:09:56.995170: I tensorflow/compiler/xla/stream_executor/cuda/cuda_gpu_executor.cc:981] could not open file to read NUMA node: /sys/bus/pci/devices/0000:01:00.0/numa_node\n",
      "Your kernel may have been built without NUMA support.\n",
      "2023-10-09 17:09:56.996131: I tensorflow/compiler/xla/stream_executor/cuda/cuda_gpu_executor.cc:981] could not open file to read NUMA node: /sys/bus/pci/devices/0000:01:00.0/numa_node\n",
      "Your kernel may have been built without NUMA support.\n",
      "2023-10-09 17:09:56.996162: I tensorflow/core/common_runtime/gpu/gpu_device.cc:1726] Could not identify NUMA node of platform GPU id 0, defaulting to 0.  Your kernel may not have been built with NUMA support.\n",
      "2023-10-09 17:09:56.996244: I tensorflow/compiler/xla/stream_executor/cuda/cuda_gpu_executor.cc:981] could not open file to read NUMA node: /sys/bus/pci/devices/0000:01:00.0/numa_node\n",
      "Your kernel may have been built without NUMA support.\n",
      "2023-10-09 17:09:56.997234: I tensorflow/core/common_runtime/gpu/gpu_device.cc:1639] Created device /job:localhost/replica:0/task:0/device:GPU:0 with 976 MB memory:  -> device: 0, name: NVIDIA GeForce MX350, pci bus id: 0000:01:00.0, compute capability: 6.1\n",
      "100%|██████████| 1/1 [00:04<00:00,  4.66s/it]"
     ]
    },
    {
     "name": "stdout",
     "output_type": "stream",
     "text": [
      "Query instance (original outcome : 0)\n"
     ]
    },
    {
     "name": "stderr",
     "output_type": "stream",
     "text": [
      "\n"
     ]
    },
    {
     "data": {
      "text/html": [
       "<div>\n",
       "<style scoped>\n",
       "    .dataframe tbody tr th:only-of-type {\n",
       "        vertical-align: middle;\n",
       "    }\n",
       "\n",
       "    .dataframe tbody tr th {\n",
       "        vertical-align: top;\n",
       "    }\n",
       "\n",
       "    .dataframe thead th {\n",
       "        text-align: right;\n",
       "    }\n",
       "</style>\n",
       "<table border=\"1\" class=\"dataframe\">\n",
       "  <thead>\n",
       "    <tr style=\"text-align: right;\">\n",
       "      <th></th>\n",
       "      <th>age</th>\n",
       "      <th>workclass</th>\n",
       "      <th>education</th>\n",
       "      <th>marital_status</th>\n",
       "      <th>occupation</th>\n",
       "      <th>race</th>\n",
       "      <th>gender</th>\n",
       "      <th>hours_per_week</th>\n",
       "      <th>income</th>\n",
       "    </tr>\n",
       "  </thead>\n",
       "  <tbody>\n",
       "    <tr>\n",
       "      <th>0</th>\n",
       "      <td>29</td>\n",
       "      <td>Private</td>\n",
       "      <td>HS-grad</td>\n",
       "      <td>Married</td>\n",
       "      <td>Blue-Collar</td>\n",
       "      <td>White</td>\n",
       "      <td>Female</td>\n",
       "      <td>38</td>\n",
       "      <td>0</td>\n",
       "    </tr>\n",
       "  </tbody>\n",
       "</table>\n",
       "</div>"
      ],
      "text/plain": [
       "   age workclass education marital_status   occupation   race  gender  \\\n",
       "0   29   Private   HS-grad        Married  Blue-Collar  White  Female   \n",
       "\n",
       "   hours_per_week  income  \n",
       "0              38       0  "
      ]
     },
     "metadata": {},
     "output_type": "display_data"
    },
    {
     "name": "stdout",
     "output_type": "stream",
     "text": [
      "\n",
      "Diverse Counterfactual set (new outcome: 1.0)\n"
     ]
    },
    {
     "data": {
      "text/html": [
       "<div>\n",
       "<style scoped>\n",
       "    .dataframe tbody tr th:only-of-type {\n",
       "        vertical-align: middle;\n",
       "    }\n",
       "\n",
       "    .dataframe tbody tr th {\n",
       "        vertical-align: top;\n",
       "    }\n",
       "\n",
       "    .dataframe thead th {\n",
       "        text-align: right;\n",
       "    }\n",
       "</style>\n",
       "<table border=\"1\" class=\"dataframe\">\n",
       "  <thead>\n",
       "    <tr style=\"text-align: right;\">\n",
       "      <th></th>\n",
       "      <th>age</th>\n",
       "      <th>workclass</th>\n",
       "      <th>education</th>\n",
       "      <th>marital_status</th>\n",
       "      <th>occupation</th>\n",
       "      <th>race</th>\n",
       "      <th>gender</th>\n",
       "      <th>hours_per_week</th>\n",
       "      <th>income</th>\n",
       "    </tr>\n",
       "  </thead>\n",
       "  <tbody>\n",
       "    <tr>\n",
       "      <th>0</th>\n",
       "      <td>29</td>\n",
       "      <td>Private</td>\n",
       "      <td>Doctorate</td>\n",
       "      <td>Married</td>\n",
       "      <td>Blue-Collar</td>\n",
       "      <td>White</td>\n",
       "      <td>Female</td>\n",
       "      <td>38</td>\n",
       "      <td>1</td>\n",
       "    </tr>\n",
       "    <tr>\n",
       "      <th>1</th>\n",
       "      <td>29</td>\n",
       "      <td>Private</td>\n",
       "      <td>HS-grad</td>\n",
       "      <td>Married</td>\n",
       "      <td>Blue-Collar</td>\n",
       "      <td>White</td>\n",
       "      <td>Female</td>\n",
       "      <td>97.0</td>\n",
       "      <td>1</td>\n",
       "    </tr>\n",
       "    <tr>\n",
       "      <th>2</th>\n",
       "      <td>29</td>\n",
       "      <td>Self-Employed</td>\n",
       "      <td>Some-college</td>\n",
       "      <td>Married</td>\n",
       "      <td>Blue-Collar</td>\n",
       "      <td>White</td>\n",
       "      <td>Female</td>\n",
       "      <td>38</td>\n",
       "      <td>1</td>\n",
       "    </tr>\n",
       "    <tr>\n",
       "      <th>3</th>\n",
       "      <td>29</td>\n",
       "      <td>Private</td>\n",
       "      <td>HS-grad</td>\n",
       "      <td>Married</td>\n",
       "      <td>Blue-Collar</td>\n",
       "      <td>Other</td>\n",
       "      <td>Female</td>\n",
       "      <td>97.0</td>\n",
       "      <td>1</td>\n",
       "    </tr>\n",
       "  </tbody>\n",
       "</table>\n",
       "</div>"
      ],
      "text/plain": [
       "  age      workclass     education marital_status   occupation   race  gender  \\\n",
       "0  29        Private     Doctorate        Married  Blue-Collar  White  Female   \n",
       "1  29        Private       HS-grad        Married  Blue-Collar  White  Female   \n",
       "2  29  Self-Employed  Some-college        Married  Blue-Collar  White  Female   \n",
       "3  29        Private       HS-grad        Married  Blue-Collar  Other  Female   \n",
       "\n",
       "  hours_per_week  income  \n",
       "0             38       1  \n",
       "1           97.0       1  \n",
       "2             38       1  \n",
       "3           97.0       1  "
      ]
     },
     "metadata": {},
     "output_type": "display_data"
    }
   ],
   "source": [
    "dataset =helpers.load_adult_income_dataset()\n",
    "target = dataset['income']\n",
    "train_dataset, test_dataset, _, _ = train_test_split(dataset, target, test_size=0.2, random_state=0,stratify=target)\n",
    "\n",
    "# initialise DiCE\n",
    "d = dice_ml.Data(dataframe=train_dataset, continuous_features=['age','hours_per_week'], outcome_name='income') \n",
    "\n",
    "m= dice_ml.Model(model_path=dice_ml.utils.helpers.get_adult_income_modelpath(), backend='TF2',func =\"ohe-min-max\")\n",
    "exp = dice_ml.Dice(d,m)\n",
    "# Generate counterfactual examples\n",
    "query_instance = test_dataset.drop(columns=\"income\")[0:1]\n",
    "dice_exp = exp.generate_counterfactuals(query_instance, total_CFs=4, desired_class=\"opposite\")\n",
    "# Visualize counterfactual explanation\n",
    "dice_exp.visualize_as_dataframe()"
   ]
  },
  {
   "cell_type": "markdown",
   "metadata": {},
   "source": [
    "# growing spheres : spécifier des attributs non modifiables"
   ]
  },
  {
   "cell_type": "markdown",
   "metadata": {},
   "source": [
    "Nous avons modifié la fonction SL(X,a0,a1,n,indice): \n",
    "- ajout une ou des dimensions que l'on souhaite bloquer par le parametre indice\n",
    "- on créé un index des dimensions que l'on a le droit de modifer\n",
    "- on fait une matrice de la taille de Z à partir de X répliqué n fois\n",
    "- On translate X de Z*u \n",
    "=> on genere donc les point avec la dimension vérouillée souhaitée."
   ]
  },
  {
   "cell_type": "code",
   "execution_count": 27,
   "metadata": {},
   "outputs": [],
   "source": [
    "def SL(X,a0,a1,n,indice): \n",
    "    d = X.shape[0]\n",
    "    epsilon = 10**-12\n",
    "    X= X.reshape(-1)\n",
    "    # distribution gaussienne centrée réduite de taille n*d\n",
    "    Z1 = np.random.normal(0,1,(n,d))\n",
    "    #normalisé par la norme de chacun des Zi\n",
    "    Z2 = Z1 / np.linalg.norm(Z1,axis=1).reshape(-1,1)\n",
    "    #uniforme sur [a0**d,a1**d]\n",
    "    u = np.random.uniform(a0**d,a1**d,(n,1))\n",
    "    u2 = u/(u**d + epsilon)\n",
    "    #projection sur l'hyperplan et translation\n",
    "\n",
    "    dimension = []\n",
    "    for i in range(d):\n",
    "        dimension.append(i)\n",
    "    dimension.remove(indice) \n",
    "    S = np.array((X)).reshape(1,-1).repeat(n,axis=0)\n",
    "    for i in dimension:\n",
    "        S[:,i] += Z2[:,i]*u[:,0]\n",
    "    return S\n",
    "\n",
    "\n",
    "# algorithme growing spheres generation  \n",
    "def algo_GSG(X,classifier,eta,n, indice): \n",
    "    d = X.shape[0]\n",
    "    # on crée une generation de points initiale entre 0 et eta\n",
    "    z = SL(X,0,eta,n,indice)\n",
    "    # on crée un vecteur de taille n avec la valeur de la prédiction du point X\n",
    "    fx = np.ones((n)) * classifier.predict(X.reshape(1,-1))\n",
    "    # on crée un vecteur de taille n avec la valeur de la prédiction de z\n",
    "    prediction = classifier.predict(z)\n",
    "    #\n",
    "    while True:\n",
    "        # si toutes les prédiction de z sont différentes de la prédiction de X on sort de la boucle\n",
    "        if (prediction == fx).all():\n",
    "            break\n",
    "        # sinon on réduit eta de moitié et on recrée une generation de points et leur prédiction\n",
    "        else:\n",
    "            eta = eta/2\n",
    "            z = SL(X,0,eta,n,indice)\n",
    "            prediction = classifier.predict(z)\n",
    "\n",
    "    a0 = eta\n",
    "    a1 = 2 * eta\n",
    "    while True:\n",
    "        # si au moins une des prédictions de z sont différentes de la prédiction de X on sort de la boucle\n",
    "        if (prediction != fx).any():\n",
    "                break\n",
    "        else:\n",
    "            # sinon on augmente a1 de eta et on recrée une generation de points et leur prédiction\n",
    "            z = SL(X,a0,a1,n,indice)\n",
    "            prediction = classifier.predict(z)\n",
    "            a0 = a1\n",
    "            a1 = a1+eta\n",
    "    \n",
    "    # on récupère les indices des points de z qui ont une prédiction différente de X\n",
    "    enemys= np.argwhere((prediction!=fx))\n",
    "    enemy = m.inf\n",
    "    # on récupère le point de z le plus proche de X parmi ceux qui ont une prédiction différente de X\n",
    "    for i in enemys:\n",
    "        if np.linalg.norm(z[i]-X) < enemy:\n",
    "            enemy = np.linalg.norm(z[i]-X)\n",
    "            ene = z[i,:]  \n",
    "\n",
    "    return ene\n",
    "\n",
    "\n",
    "\n",
    "# algo growing sphere feature selection\n",
    "def algo_GSFS(X,classifier,enemy):\n",
    "    # initialisation e_prime\n",
    "    e_prime = cp.deepcopy(enemy).flatten()\n",
    "    # reshape de X\n",
    "    X = X.flatten()\n",
    "    # liste des indices de la norme l1 de la différence entre e_prime et X triée par ordre croissant\n",
    "    liste_feature = sorted(enumerate(abs(e_prime - X)), key=lambda x: x[1])\n",
    "    # on ne garde que les indices des points de la liste qui ont une norme l1 non nulle\n",
    "    liste_feature = [x[0] for x in liste_feature if x[1] > 0.0]\n",
    "    # out est une copie de e_prime\n",
    "    e_best = e_prime.copy()\n",
    "    #compteur du nombre de features modifiées\n",
    "    #modification = 0\n",
    "    \n",
    "    for k in liste_feature:\n",
    "        # on modifie la k-ième feature de e_prime par celle de X\n",
    "        e_second = e_best.copy()\n",
    "        e_second[k] = X[k]\n",
    "        # condition pour vérifier si la prédiction de e_second est différente de celle de X\n",
    "        condition = classifier.predict(e_second.reshape(1, -1)) != classifier.predict(X.reshape(1,-1))\n",
    "        \n",
    "        if condition:\n",
    "                #si condition est vérifiée on remplace e_best par e_second\n",
    "                e_best[k] = e_second[k]\n",
    "                #modification += 1\n",
    "    \n",
    "    #print(\"modification de %d dimensions lors du choix de e_best\"%modification)\n",
    "\n",
    "    return e_best\n",
    "\n",
    "# algo growing sphere generation + feature selection \n",
    "def algo_GS(X,classifier,eta,n, indice):\n",
    "    enemy = algo_GSG(X,classifier,eta,n, indice)\n",
    "    e_best = algo_GSFS(X,classifier,enemy)\n",
    "    return e_best\n",
    "\n",
    "def affichage(x, ennemy, X_test, y_test, classifier):\n",
    "    \n",
    "    # Plot X\n",
    "    plt.plot(X_test[:, 0][y_test==1], X_test[:, 1][y_test==1],'bs')\n",
    "    plt.plot(X_test[:, 0][y_test==0], X_test[:, 1][y_test==0], 'g^')\n",
    "\n",
    "    # Plot x and son ennemy\n",
    "    plt.plot(x[0], x[1], 'ro', label = 'x')\n",
    "    plt.plot(ennemy[0], ennemy[1], 'r*', label = 'ennemy')\n",
    "\n",
    "    # X contains two features, x1 and x2\n",
    "    plt.xlabel(r\"$x_0$\", fontsize=20)\n",
    "    plt.ylabel(r\"$x_1$\", fontsize=20)\n",
    "\n",
    "    #frontière décision \n",
    "    h = .02  \n",
    "    x_min, x_max = X_test[:, 0].min() - 1, X_test[:, 0].max() + 1\n",
    "    y_min, y_max = X_test[:, 1].min() - 1, X_test[:, 1].max() + 1\n",
    "    xx, yy = np.meshgrid(np.arange(x_min, x_max, h), np.arange(y_min, y_max, h))\n",
    "    Z = classifier.predict(np.c_[xx.ravel(), yy.ravel()])\n",
    "    Z = Z.reshape(xx.shape)\n",
    "    plt.contour(xx, yy, Z, cmap='gray')\n",
    "\n",
    "    # commentaires\n",
    "    plt.legend()\n",
    "\n",
    "    # plot.\n",
    "    plt.show()\n",
    "\n",
    "def affichage_list(x, ennemy_list, X_test, y_test, classifier):\n",
    "    \n",
    "    # Plot the points of X except x\n",
    "    plt.plot(X_test[:, 0][y_test==1], X_test[:, 1][y_test==1],'bs')\n",
    "    plt.plot(X_test[:, 0][y_test==0], X_test[:, 1][y_test==0], 'g^')\n",
    "\n",
    "    # Plot x and its ennemies\n",
    "    plt.plot(x[0], x[1], 'ro', label = 'x')\n",
    "    for i in range(len(ennemy_list)-1):\n",
    "        plt.plot(ennemy_list[i][0], ennemy_list[i][1], 'r*')\n",
    "    plt.plot(ennemy_list[-1][0], ennemy_list[-1][1], 'r*', label = 'ennemies')\n",
    "    \n",
    "    #frontière décision \n",
    "    h = .02  \n",
    "    x_min, x_max = X_test[:, 0].min() - 1, X_test[:, 0].max() + 1\n",
    "    y_min, y_max = X_test[:, 1].min() - 1, X_test[:, 1].max() + 1\n",
    "    xx, yy = np.meshgrid(np.arange(x_min, x_max, h), np.arange(y_min, y_max, h))\n",
    "    Z = classifier.predict(np.c_[xx.ravel(), yy.ravel()])\n",
    "    Z = Z.reshape(xx.shape)\n",
    "    plt.contour(xx, yy, Z, cmap='gray')\n",
    "\n",
    "    # X contains two features, x1 and x2\n",
    "    plt.xlabel(r\"$x_0$\", fontsize=20)\n",
    "    plt.ylabel(r\"$x_1$\", fontsize=20)\n",
    "\n",
    "    # commentaires\n",
    "    # Displaying the plot.\n"
   ]
  },
  {
   "cell_type": "code",
   "execution_count": 36,
   "metadata": {},
   "outputs": [
    {
     "data": {
      "image/png": "[encoded data removed]",
      "text/plain": [
       "<Figure size 432x288 with 1 Axes>"
      ]
     },
     "metadata": {
      "needs_background": "light"
     },
     "output_type": "display_data"
    },
    {
     "data": {
      "image/png": "[encoded data removed]",
      "text/plain": [
       "<Figure size 432x288 with 1 Axes>"
      ]
     },
     "metadata": {
      "needs_background": "light"
     },
     "output_type": "display_data"
    }
   ],
   "source": [
    "import math as m\n",
    "clf = RandomForestClassifier(n_estimators=200)\n",
    "# On entraine le classifieur\n",
    "clf.fit(X_train, y_train)\n",
    "# On prédit les valeurs sur le jeu de test\n",
    "pred = clf.predict(X_test)\n",
    "\n",
    "ennemy_list = []\n",
    "eta = 0.5\n",
    "n = 100\n",
    "x = X_test[0] # on choisit un point aléatoire de X_test    \n",
    "for j in range(30):\n",
    "    ennemy_list.append(algo_GS(x,clf,eta,n,0))\n",
    "    affichage_list(x, ennemy_list, X_test, y_test, clf)\n",
    "plt.title(\"Growing Sphere avec dimension 0 bloquée\")\n",
    "plt.show()\n",
    "\n",
    "ennemy_list = []\n",
    "for j in range(30):\n",
    "    ennemy_list.append(algo_GS(x,clf,eta,n,1))\n",
    "    affichage_list(x, ennemy_list, X_test, y_test, clf)\n",
    "plt.title(\"Growing Sphere avec dimension 1 bloquée\")\n",
    "plt.show()"
   ]
  },
  {
   "cell_type": "markdown",
   "metadata": {},
   "source": [
    "** Comme on peut le voir sur le graphique suivant nous avons modifié la génération de la sphère en bloquant une dimension (possible d'en bloquer plusieurs mais pas avec cet exemple en 2D)**"
   ]
  },
  {
   "cell_type": "code",
   "execution_count": 35,
   "metadata": {},
   "outputs": [
    {
     "data": {
      "image/png": "[encoded data removed]",
      "text/plain": [
       "<Figure size 432x288 with 1 Axes>"
      ]
     },
     "metadata": {
      "needs_background": "light"
     },
     "output_type": "display_data"
    },
    {
     "data": {
      "text/plain": [
       "<function matplotlib.pyplot.show(close=None, block=None)>"
      ]
     },
     "execution_count": 35,
     "metadata": {},
     "output_type": "execute_result"
    },
    {
     "data": {
      "image/png": "[encoded data removed]",
      "text/plain": [
       "<Figure size 432x288 with 1 Axes>"
      ]
     },
     "metadata": {
      "needs_background": "light"
     },
     "output_type": "display_data"
    }
   ],
   "source": [
    "f = SL(x,0,0.5,1000,1)\n",
    "plt.plot(f[:,0],f[:,1],'y^')\n",
    "#couleur noir pour le point de test\n",
    "plt.plot(X_test[:, 0][y_test==1], X_test[:, 1][y_test==1],'bs',label='classe 1')\n",
    "plt.plot(X_test[:, 0][y_test==0], X_test[:, 1][y_test==0], 'g^')\n",
    "plt.plot(X_test[0,0],X_test[0,1],'r^')\n",
    "\n",
    "# X contains two features, x1 and x2\n",
    "plt.xlabel(r\"$x_0$\", fontsize=20)\n",
    "plt.ylabel(r\"$x_1$\", fontsize=20)\n",
    "plt.show()\n",
    "plt.close\n",
    "\n",
    "f2 = SL(x,0.8,0.9,1000,1)\n",
    "plt.plot(f2[:,0],f2[:,1],'y^')\n",
    "plt.plot(X_test[:, 0][y_test==1], X_test[:, 1][y_test==1],'bs',label='classe 1')\n",
    "plt.plot(X_test[:, 0][y_test==0], X_test[:, 1][y_test==0], 'g^')\n",
    "plt.plot(X_test[0,0],X_test[0,1],'r^')\n",
    "\n",
    "# X contains two features, x1 and x2\n",
    "plt.xlabel(r\"$x_0$\", fontsize=20)\n",
    "plt.ylabel(r\"$x_1$\", fontsize=20)\n",
    "plt.show"
   ]
  }
 ],
 "metadata": {
  "kernelspec": {
   "display_name": "Python 3",
   "language": "python",
   "name": "python3"
  },
  "language_info": {
   "codemirror_mode": {
    "name": "ipython",
    "version": 3
   },
   "file_extension": ".py",
   "mimetype": "text/x-python",
   "name": "python",
   "nbconvert_exporter": "python",
   "pygments_lexer": "ipython3",
   "version": "3.10.12"
  },
  "orig_nbformat": 4
 },
 "nbformat": 4,
 "nbformat_minor": 2
}
